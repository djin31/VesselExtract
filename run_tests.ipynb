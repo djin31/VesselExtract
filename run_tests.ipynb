{
 "cells": [
  {
   "cell_type": "code",
   "execution_count": 3,
   "metadata": {},
   "outputs": [],
   "source": [
    "import os\n",
    "import sys\n",
    "import numpy as np\n",
    "import matplotlib.pyplot as plt\n",
    "%matplotlib inline"
   ]
  },
  {
   "cell_type": "code",
   "execution_count": 4,
   "metadata": {},
   "outputs": [],
   "source": [
    "import torch\n",
    "import torch.nn as nn\n",
    "import torch.nn.functional as F\n",
    "import torch.utils.data\n",
    "import torchvision"
   ]
  },
  {
   "cell_type": "code",
   "execution_count": 5,
   "metadata": {},
   "outputs": [],
   "source": [
    "class ConvBlock(nn.Module):\n",
    "    def __init__(self, in_filters, out_filters, kernel_size=3, batchnorm=True, last_activ=F.relu):\n",
    "        super(ConvBlock, self).__init__()\n",
    "        self.bn = batchnorm\n",
    "        self.last_activ = last_activ\n",
    "        self.c1 = nn.Conv2d(in_filters, out_filters, kernel_size, padding=1)\n",
    "        self.b1 = nn.BatchNorm2d(out_filters)\n",
    "        self.c2 = nn.Conv2d(out_filters, out_filters, kernel_size, padding=1)\n",
    "        self.b2 = nn.BatchNorm2d(out_filters)\n",
    "    def forward(self, x):\n",
    "        x = self.c1(x)\n",
    "        if self.bn: x = self.b1(x)\n",
    "        x = F.relu(x)\n",
    "        x = self.c2(x)\n",
    "        if self.bn: x = self.b2(x)\n",
    "        x = self.last_activ(x)\n",
    "        return x"
   ]
  },
  {
   "cell_type": "code",
   "execution_count": 6,
   "metadata": {},
   "outputs": [],
   "source": [
    "class ContractiveBlock(nn.Module):\n",
    "    def __init__(self, in_filters, out_filters, conv_kern=3, pool_kern=2, dropout=0.5, batchnorm=True):\n",
    "        super(ContractiveBlock, self).__init__()\n",
    "        self.c1 = ConvBlock(in_filters=in_filters, out_filters=out_filters, kernel_size=conv_kern, batchnorm=batchnorm)\n",
    "        self.p1 = nn.MaxPool2d(kernel_size=pool_kern)\n",
    "        self.d1 = nn.Dropout2d(dropout)\n",
    "    def forward(self, x):\n",
    "        c = self.c1(x)\n",
    "        return c, self.d1(self.p1(c))"
   ]
  },
  {
   "cell_type": "code",
   "execution_count": 7,
   "metadata": {},
   "outputs": [],
   "source": [
    "class ExpansiveBlock(nn.Module):\n",
    "    def __init__(self, in_filters1, in_filters2, out_filters, tr_kern=3, conv_kern=3, stride=2, dropout=0.5):\n",
    "        super(ExpansiveBlock, self).__init__()\n",
    "        self.t1 = nn.ConvTranspose2d(in_filters1, out_filters, tr_kern, stride=2, padding=1, output_padding=1)\n",
    "        self.d1 = nn.Dropout(dropout)\n",
    "        self.c1 = ConvBlock(out_filters+in_filters2, out_filters, conv_kern)\n",
    "        \n",
    "    def forward(self, x, contractive_x):\n",
    "        x_ups = self.t1(x)\n",
    "        x_concat = torch.cat([x_ups, contractive_x], 1)\n",
    "        x_fin = self.c1(self.d1(x_concat))\n",
    "        return x_fin"
   ]
  },
  {
   "cell_type": "code",
   "execution_count": 8,
   "metadata": {},
   "outputs": [],
   "source": [
    "class Unet(nn.Module):\n",
    "    def __init__(self, n_labels, n_filters=16, p_dropout=0.5, batchnorm=True):\n",
    "        super(Unet, self).__init__()\n",
    "        filter_dict = {}\n",
    "        filt_pair = [3, n_filters]\n",
    "        \n",
    "        for i in range(4):\n",
    "            self.add_module('contractive_'+str(i), ContractiveBlock(filt_pair[0], filt_pair[1], batchnorm=batchnorm))\n",
    "            filter_dict['contractive_'+str(i)] = (filt_pair[0], filt_pair[1])\n",
    "            filt_pair[0] = filt_pair[1]\n",
    "            filt_pair[1] = filt_pair[1] * 2\n",
    "        \n",
    "        self.bottleneck = ConvBlock(filt_pair[0], filt_pair[1], batchnorm=batchnorm)\n",
    "        filter_dict['bottleneck'] = (filt_pair[0], filt_pair[1])\n",
    "        \n",
    "        for i in reversed(range(4)):\n",
    "            self.add_module('expansive_'+str(i), ExpansiveBlock(filt_pair[1], filter_dict['contractive_'+str(i)][1], filt_pair[0]))\n",
    "            filter_dict['expansive_'+str(i)] = (filt_pair[1], filt_pair[0])\n",
    "            filt_pair[1] = filt_pair[0]\n",
    "            filt_pair[0] = filt_pair[0] // 2\n",
    "        \n",
    "        self.output = nn.Conv2d(filt_pair[1], n_labels, kernel_size=1)\n",
    "        filter_dict['output'] = (filt_pair[1], n_labels)\n",
    "        self.filter_dict = filter_dict\n",
    "    \n",
    "    def forward(self, x):\n",
    "        c00, c0 = self.contractive_0(x)\n",
    "        c11, c1 = self.contractive_1(c0)\n",
    "        c22, c2 = self.contractive_2(c1)\n",
    "        c33, c3 = self.contractive_3(c2)\n",
    "        bottle = self.bottleneck(c3)\n",
    "        u3 = F.relu(self.expansive_3(bottle, c33))\n",
    "        u2 = F.relu(self.expansive_2(u3, c22))\n",
    "        u1 = F.relu(self.expansive_1(u2, c11))\n",
    "        u0 = F.relu(self.expansive_0(u1, c00))\n",
    "        return F.softmax(self.output(u0), dim=1)"
   ]
  },
  {
   "cell_type": "code",
   "execution_count": 9,
   "metadata": {},
   "outputs": [],
   "source": [
    "net = Unet(2).cuda()"
   ]
  },
  {
   "cell_type": "code",
   "execution_count": 14,
   "metadata": {},
   "outputs": [],
   "source": [
    "net.load_state_dict(torch.load('test.pth'))\n",
    "net.eval();"
   ]
  },
  {
   "cell_type": "code",
   "execution_count": null,
   "metadata": {},
   "outputs": [],
   "source": []
  }
 ],
 "metadata": {
  "kernelspec": {
   "display_name": "Python 3",
   "language": "python",
   "name": "python3"
  },
  "language_info": {
   "codemirror_mode": {
    "name": "ipython",
    "version": 3
   },
   "file_extension": ".py",
   "mimetype": "text/x-python",
   "name": "python",
   "nbconvert_exporter": "python",
   "pygments_lexer": "ipython3",
   "version": "3.7.0"
  }
 },
 "nbformat": 4,
 "nbformat_minor": 2
}
